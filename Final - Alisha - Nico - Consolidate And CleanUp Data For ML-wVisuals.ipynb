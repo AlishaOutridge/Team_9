{
 "cells": [
  {
   "cell_type": "code",
   "execution_count": 1,
   "metadata": {},
   "outputs": [],
   "source": [
    "import pandas as pd\n",
    "import numpy as np\n",
    "import matplotlib.pyplot as plt\n",
    "import seaborn as sns\n",
    "\n",
    "import requests\n",
    "import json\n",
    "from dotenv import load_dotenv\n",
    "import os"
   ]
  },
  {
   "cell_type": "code",
   "execution_count": 2,
   "metadata": {},
   "outputs": [],
   "source": [
    "import warnings\n",
    "warnings.simplefilter(action='ignore', category=FutureWarning)"
   ]
  },
  {
   "cell_type": "markdown",
   "metadata": {},
   "source": [
    "## Get API Key from Env variable and token to make future requests"
   ]
  },
  {
   "cell_type": "code",
   "execution_count": 3,
   "metadata": {},
   "outputs": [
    {
     "name": "stdout",
     "output_type": "stream",
     "text": [
      "s2EGVWtdh5Vc2QnqG0RLcBdln6Zyfpk3vwBB6ibTawlT1LJoJisbjRtsyKVADaCA\n"
     ]
    }
   ],
   "source": [
    "# Set environment variables from the .env in the local environment\n",
    "load_dotenv(\"Chartmetrics_API_KEY.env\")\n",
    "\n",
    "# Retrieve API key and store as Python variable\n",
    "refresh_api_token = os.getenv(\"CHARTMETRICS_KEY\")\n",
    "print(refresh_api_token)"
   ]
  },
  {
   "cell_type": "code",
   "execution_count": 4,
   "metadata": {},
   "outputs": [],
   "source": [
    "post_request_url = \"https://api.chartmetric.com/api/token\"\n",
    "\n",
    "post_results = requests.post(post_request_url, data = {\"refreshtoken\":refresh_api_token}, json=True)\n",
    "api_token = post_results.json()['token']"
   ]
  },
  {
   "cell_type": "code",
   "execution_count": 5,
   "metadata": {},
   "outputs": [
    {
     "data": {
      "text/plain": [
       "<Response [200]>"
      ]
     },
     "execution_count": 5,
     "metadata": {},
     "output_type": "execute_result"
    }
   ],
   "source": [
    "post_results"
   ]
  },
  {
   "cell_type": "markdown",
   "metadata": {},
   "source": [
    "## Spotify artists"
   ]
  },
  {
   "cell_type": "code",
   "execution_count": 6,
   "metadata": {},
   "outputs": [],
   "source": [
    "date = '2024-07-01'\n",
    "chart_type = 'popularity'\n",
    "interval = 'daily'\n",
    "\n",
    "spotify_artists_url = f\"https://api.chartmetric.com/api/charts/spotify/artists?date={date}&type={chart_type}&interval={interval}\"\n",
    "\n",
    "headers = {\"Authorization\": f\"Bearer {api_token}\"}\n",
    "\n",
    "spotify_artists_results = requests.get(spotify_artists_url, headers = headers)"
   ]
  },
  {
   "cell_type": "code",
   "execution_count": 7,
   "metadata": {},
   "outputs": [
    {
     "data": {
      "text/plain": [
       "<Response [200]>"
      ]
     },
     "execution_count": 7,
     "metadata": {},
     "output_type": "execute_result"
    }
   ],
   "source": [
    "spotify_artists_results"
   ]
  },
  {
   "cell_type": "code",
   "execution_count": 8,
   "metadata": {},
   "outputs": [
    {
     "data": {
      "text/html": [
       "<div>\n",
       "<style scoped>\n",
       "    .dataframe tbody tr th:only-of-type {\n",
       "        vertical-align: middle;\n",
       "    }\n",
       "\n",
       "    .dataframe tbody tr th {\n",
       "        vertical-align: top;\n",
       "    }\n",
       "\n",
       "    .dataframe thead th {\n",
       "        text-align: right;\n",
       "    }\n",
       "</style>\n",
       "<table border=\"1\" class=\"dataframe\">\n",
       "  <thead>\n",
       "    <tr style=\"text-align: right;\">\n",
       "      <th></th>\n",
       "      <th>id</th>\n",
       "      <th>name</th>\n",
       "      <th>image_url</th>\n",
       "      <th>isni</th>\n",
       "      <th>code2</th>\n",
       "      <th>hometown_city</th>\n",
       "      <th>verified</th>\n",
       "      <th>current_city</th>\n",
       "      <th>sp_followers</th>\n",
       "      <th>sp_popularity</th>\n",
       "      <th>...</th>\n",
       "      <th>popularity</th>\n",
       "      <th>rank</th>\n",
       "      <th>change</th>\n",
       "      <th>velocity</th>\n",
       "      <th>streak</th>\n",
       "      <th>created_at</th>\n",
       "      <th>peak_date</th>\n",
       "      <th>peak_rank</th>\n",
       "      <th>time_on_chart</th>\n",
       "      <th>rankStats</th>\n",
       "    </tr>\n",
       "  </thead>\n",
       "  <tbody>\n",
       "    <tr>\n",
       "      <th>0</th>\n",
       "      <td>2762</td>\n",
       "      <td>Taylor Swift</td>\n",
       "      <td>https://share.chartmetric.com/artists/299/172/...</td>\n",
       "      <td>0000000078519858</td>\n",
       "      <td>US</td>\n",
       "      <td>None</td>\n",
       "      <td>True</td>\n",
       "      <td>None</td>\n",
       "      <td>114819597.0</td>\n",
       "      <td>100.0</td>\n",
       "      <td>...</td>\n",
       "      <td>100</td>\n",
       "      <td>1</td>\n",
       "      <td>0</td>\n",
       "      <td>0.000000</td>\n",
       "      <td>78</td>\n",
       "      <td>2024-07-01 08:58:49.864</td>\n",
       "      <td>2024-07-01</td>\n",
       "      <td>1</td>\n",
       "      <td>2273</td>\n",
       "      <td>[{'date': '2024-06-18', 'rank': 1}, {'date': '...</td>\n",
       "    </tr>\n",
       "    <tr>\n",
       "      <th>1</th>\n",
       "      <td>5596</td>\n",
       "      <td>Billie Eilish</td>\n",
       "      <td>https://i.scdn.co/image/ab67616100005174d8b998...</td>\n",
       "      <td>000000046748058X</td>\n",
       "      <td>US</td>\n",
       "      <td>Los Angeles</td>\n",
       "      <td>False</td>\n",
       "      <td>None</td>\n",
       "      <td>95885582.0</td>\n",
       "      <td>94.0</td>\n",
       "      <td>...</td>\n",
       "      <td>94</td>\n",
       "      <td>2</td>\n",
       "      <td>0</td>\n",
       "      <td>0.000000</td>\n",
       "      <td>78</td>\n",
       "      <td>2024-07-01 08:58:49.864</td>\n",
       "      <td>2019-06-28</td>\n",
       "      <td>1</td>\n",
       "      <td>2271</td>\n",
       "      <td>[{'date': '2024-06-18', 'rank': 2}, {'date': '...</td>\n",
       "    </tr>\n",
       "    <tr>\n",
       "      <th>2</th>\n",
       "      <td>3380</td>\n",
       "      <td>Drake</td>\n",
       "      <td>https://i.scdn.co/image/ab67616100005174429338...</td>\n",
       "      <td>000000012032246X</td>\n",
       "      <td>CA</td>\n",
       "      <td>Toronto</td>\n",
       "      <td>False</td>\n",
       "      <td>None</td>\n",
       "      <td>89957674.0</td>\n",
       "      <td>94.0</td>\n",
       "      <td>...</td>\n",
       "      <td>94</td>\n",
       "      <td>3</td>\n",
       "      <td>0</td>\n",
       "      <td>0.000000</td>\n",
       "      <td>78</td>\n",
       "      <td>2024-07-01 08:58:49.864</td>\n",
       "      <td>2021-11-16</td>\n",
       "      <td>1</td>\n",
       "      <td>2277</td>\n",
       "      <td>[{'date': '2024-06-18', 'rank': 3}, {'date': '...</td>\n",
       "    </tr>\n",
       "    <tr>\n",
       "      <th>3</th>\n",
       "      <td>3852</td>\n",
       "      <td>The Weeknd</td>\n",
       "      <td>https://i.scdn.co/image/ab6761610000e5eb214f3c...</td>\n",
       "      <td>0000000382556637</td>\n",
       "      <td>CA</td>\n",
       "      <td>None</td>\n",
       "      <td>False</td>\n",
       "      <td>None</td>\n",
       "      <td>85718694.0</td>\n",
       "      <td>93.0</td>\n",
       "      <td>...</td>\n",
       "      <td>93</td>\n",
       "      <td>4</td>\n",
       "      <td>0</td>\n",
       "      <td>0.000000</td>\n",
       "      <td>78</td>\n",
       "      <td>2024-07-01 08:58:49.864</td>\n",
       "      <td>2023-03-22</td>\n",
       "      <td>1</td>\n",
       "      <td>2265</td>\n",
       "      <td>[{'date': '2024-06-18', 'rank': 5}, {'date': '...</td>\n",
       "    </tr>\n",
       "    <tr>\n",
       "      <th>4</th>\n",
       "      <td>214945</td>\n",
       "      <td>Bad Bunny</td>\n",
       "      <td>https://i.scdn.co/image/ab6761610000e5eb9ad50e...</td>\n",
       "      <td>0000000466373221</td>\n",
       "      <td>PR</td>\n",
       "      <td>None</td>\n",
       "      <td>True</td>\n",
       "      <td>None</td>\n",
       "      <td>83144720.0</td>\n",
       "      <td>94.0</td>\n",
       "      <td>...</td>\n",
       "      <td>93</td>\n",
       "      <td>5</td>\n",
       "      <td>0</td>\n",
       "      <td>0.000000</td>\n",
       "      <td>78</td>\n",
       "      <td>2024-07-01 08:58:49.864</td>\n",
       "      <td>2023-03-20</td>\n",
       "      <td>1</td>\n",
       "      <td>2267</td>\n",
       "      <td>[{'date': '2024-06-18', 'rank': 4}, {'date': '...</td>\n",
       "    </tr>\n",
       "  </tbody>\n",
       "</table>\n",
       "<p>5 rows × 30 columns</p>\n",
       "</div>"
      ],
      "text/plain": [
       "       id           name                                          image_url  \\\n",
       "0    2762   Taylor Swift  https://share.chartmetric.com/artists/299/172/...   \n",
       "1    5596  Billie Eilish  https://i.scdn.co/image/ab67616100005174d8b998...   \n",
       "2    3380          Drake  https://i.scdn.co/image/ab67616100005174429338...   \n",
       "3    3852     The Weeknd  https://i.scdn.co/image/ab6761610000e5eb214f3c...   \n",
       "4  214945      Bad Bunny  https://i.scdn.co/image/ab6761610000e5eb9ad50e...   \n",
       "\n",
       "               isni code2 hometown_city  verified current_city  sp_followers  \\\n",
       "0  0000000078519858    US          None      True         None   114819597.0   \n",
       "1  000000046748058X    US   Los Angeles     False         None    95885582.0   \n",
       "2  000000012032246X    CA       Toronto     False         None    89957674.0   \n",
       "3  0000000382556637    CA          None     False         None    85718694.0   \n",
       "4  0000000466373221    PR          None      True         None    83144720.0   \n",
       "\n",
       "   sp_popularity  ...  popularity  rank  change  velocity streak  \\\n",
       "0          100.0  ...         100     1       0  0.000000     78   \n",
       "1           94.0  ...          94     2       0  0.000000     78   \n",
       "2           94.0  ...          94     3       0  0.000000     78   \n",
       "3           93.0  ...          93     4       0  0.000000     78   \n",
       "4           94.0  ...          93     5       0  0.000000     78   \n",
       "\n",
       "                created_at   peak_date peak_rank time_on_chart  \\\n",
       "0  2024-07-01 08:58:49.864  2024-07-01         1          2273   \n",
       "1  2024-07-01 08:58:49.864  2019-06-28         1          2271   \n",
       "2  2024-07-01 08:58:49.864  2021-11-16         1          2277   \n",
       "3  2024-07-01 08:58:49.864  2023-03-22         1          2265   \n",
       "4  2024-07-01 08:58:49.864  2023-03-20         1          2267   \n",
       "\n",
       "                                           rankStats  \n",
       "0  [{'date': '2024-06-18', 'rank': 1}, {'date': '...  \n",
       "1  [{'date': '2024-06-18', 'rank': 2}, {'date': '...  \n",
       "2  [{'date': '2024-06-18', 'rank': 3}, {'date': '...  \n",
       "3  [{'date': '2024-06-18', 'rank': 5}, {'date': '...  \n",
       "4  [{'date': '2024-06-18', 'rank': 4}, {'date': '...  \n",
       "\n",
       "[5 rows x 30 columns]"
      ]
     },
     "execution_count": 8,
     "metadata": {},
     "output_type": "execute_result"
    }
   ],
   "source": [
    "artists_df = pd.json_normalize(spotify_artists_results.json()['obj']['data'])\n",
    "artists_df.head()"
   ]
  },
  {
   "cell_type": "code",
   "execution_count": 9,
   "metadata": {},
   "outputs": [
    {
     "data": {
      "text/plain": [
       "(200, 30)"
      ]
     },
     "execution_count": 9,
     "metadata": {},
     "output_type": "execute_result"
    }
   ],
   "source": [
    "artists_df.shape"
   ]
  },
  {
   "cell_type": "code",
   "execution_count": 10,
   "metadata": {},
   "outputs": [],
   "source": [
    "top_100_artists_df = artists_df[artists_df['rank'] < 101].copy()"
   ]
  },
  {
   "cell_type": "markdown",
   "metadata": {},
   "source": [
    "#### Export df to CSV"
   ]
  },
  {
   "cell_type": "code",
   "execution_count": null,
   "metadata": {},
   "outputs": [],
   "source": [
    "artists_df.to_csv('artist_df.csv', index=False)"
   ]
  },
  {
   "cell_type": "markdown",
   "metadata": {},
   "source": [
    "### Visuals"
   ]
  },
  {
   "cell_type": "code",
   "execution_count": 11,
   "metadata": {},
   "outputs": [
    {
     "data": {
      "text/plain": [
       "id                        int64\n",
       "name                     object\n",
       "image_url                object\n",
       "isni                     object\n",
       "code2                    object\n",
       "hometown_city            object\n",
       "verified                   bool\n",
       "current_city             object\n",
       "sp_followers            float64\n",
       "sp_popularity           float64\n",
       "sp_monthly_listeners    float64\n",
       "deezer_fans             float64\n",
       "cm_artist_rank          float64\n",
       "cm_artist_score         float64\n",
       "tags                     object\n",
       "spotify_artist_ids       object\n",
       "itunes_artist_ids        object\n",
       "deezer_artist_ids        object\n",
       "amazon_artist_ids        object\n",
       "timestp                  object\n",
       "popularity                int64\n",
       "rank                      int64\n",
       "change                   object\n",
       "velocity                 object\n",
       "streak                    int64\n",
       "created_at               object\n",
       "peak_date                object\n",
       "peak_rank                 int64\n",
       "time_on_chart             int64\n",
       "rankStats                object\n",
       "dtype: object"
      ]
     },
     "execution_count": 11,
     "metadata": {},
     "output_type": "execute_result"
    }
   ],
   "source": [
    "artists_df.dtypes"
   ]
  },
  {
   "cell_type": "code",
   "execution_count": 15,
   "metadata": {},
   "outputs": [
    {
     "data": {
      "image/png": "[encoded data removed]",
      "text/plain": [
       "<Figure size 1500x800 with 1 Axes>"
      ]
     },
     "metadata": {},
     "output_type": "display_data"
    }
   ],
   "source": [
    "fig, ax = plt.subplots(1,1, figsize=(15,8))\n",
    "\n",
    "sns.despine(left=True,right=True,top=True)\n",
    "\n",
    "sns.histplot(x = 'sp_monthly_listeners', data = artists_df)\n",
    "\n",
    "plt.title('Distribution of Spotify Monthly listeners', fontweight='bold')\n",
    "\n",
    "plt.show()"
   ]
  },
  {
   "cell_type": "code",
   "execution_count": 16,
   "metadata": {},
   "outputs": [
    {
     "data": {
      "image/png": "[encoded data removed]",
      "text/plain": [
       "<Figure size 1500x800 with 1 Axes>"
      ]
     },
     "metadata": {},
     "output_type": "display_data"
    }
   ],
   "source": [
    "fig, ax = plt.subplots(1,1, figsize=(15,8))\n",
    "\n",
    "sns.despine(left=True,right=True,top=True)\n",
    "\n",
    "sns.histplot(x = 'sp_monthly_listeners', data = top_100_artists_df)\n",
    "\n",
    "plt.title('Distribution of Spotify Monthly listeners \\n Top 100 Artists', fontweight='bold')\n",
    "\n",
    "plt.show()"
   ]
  },
  {
   "cell_type": "markdown",
   "metadata": {},
   "source": [
    "## Spotify Tracks"
   ]
  },
  {
   "cell_type": "code",
   "execution_count": 17,
   "metadata": {},
   "outputs": [],
   "source": [
    "date = '2024-07-01'\n",
    "chart_type = 'regional'\n",
    "interval = 'daily'\n",
    "country_code = 'US'\n",
    "\n",
    "spotify_tracks_url = f\"https://api.chartmetric.com/api/charts/spotify?date={date}&type={chart_type}&interval={interval}&country_code={country_code}\"\n",
    "\n",
    "headers = {\"Authorization\": f\"Bearer {api_token}\"}\n",
    "\n",
    "spotify_tracks_results = requests.get(spotify_tracks_url, headers = headers)"
   ]
  },
  {
   "cell_type": "code",
   "execution_count": 18,
   "metadata": {},
   "outputs": [
    {
     "data": {
      "text/plain": [
       "<Response [200]>"
      ]
     },
     "execution_count": 18,
     "metadata": {},
     "output_type": "execute_result"
    }
   ],
   "source": [
    "spotify_tracks_results"
   ]
  },
  {
   "cell_type": "code",
   "execution_count": 19,
   "metadata": {},
   "outputs": [
    {
     "data": {
      "text/html": [
       "<div>\n",
       "<style scoped>\n",
       "    .dataframe tbody tr th:only-of-type {\n",
       "        vertical-align: middle;\n",
       "    }\n",
       "\n",
       "    .dataframe tbody tr th {\n",
       "        vertical-align: top;\n",
       "    }\n",
       "\n",
       "    .dataframe thead th {\n",
       "        text-align: right;\n",
       "    }\n",
       "</style>\n",
       "<table border=\"1\" class=\"dataframe\">\n",
       "  <thead>\n",
       "    <tr style=\"text-align: right;\">\n",
       "      <th></th>\n",
       "      <th>id</th>\n",
       "      <th>name</th>\n",
       "      <th>isrc</th>\n",
       "      <th>spotify_track_id</th>\n",
       "      <th>spotify_album_id</th>\n",
       "      <th>image_url</th>\n",
       "      <th>spotify_popularity</th>\n",
       "      <th>cm_track</th>\n",
       "      <th>spotify_artist_names</th>\n",
       "      <th>track_genre</th>\n",
       "      <th>...</th>\n",
       "      <th>chart_name</th>\n",
       "      <th>current_plays</th>\n",
       "      <th>code2</th>\n",
       "      <th>spotify</th>\n",
       "      <th>velocity</th>\n",
       "      <th>pre_rank</th>\n",
       "      <th>peak_rank</th>\n",
       "      <th>peak_date</th>\n",
       "      <th>time_on_chart</th>\n",
       "      <th>rankStats</th>\n",
       "    </tr>\n",
       "  </thead>\n",
       "  <tbody>\n",
       "    <tr>\n",
       "      <th>0</th>\n",
       "      <td>140970481</td>\n",
       "      <td>Please Please Please</td>\n",
       "      <td>USUM72404101</td>\n",
       "      <td>5N3hjp1WNayUPZrA8kJmJP</td>\n",
       "      <td>5bBaoign62r1i7OV8w7mi9</td>\n",
       "      <td>https://i.scdn.co/image/ab67616d0000b273de84ad...</td>\n",
       "      <td>98</td>\n",
       "      <td>122336328</td>\n",
       "      <td>[Sabrina Carpenter]</td>\n",
       "      <td>dance pop,electropop,pop,post-teen pop,viral pop</td>\n",
       "      <td>...</td>\n",
       "      <td>REGIONAL DAILY</td>\n",
       "      <td>None</td>\n",
       "      <td>US</td>\n",
       "      <td>140970481</td>\n",
       "      <td>0.000000</td>\n",
       "      <td>1</td>\n",
       "      <td>1</td>\n",
       "      <td>2024-06-10T00:00:00.000Z</td>\n",
       "      <td>25</td>\n",
       "      <td>[{'plays': None, 'rank': 1, 'timestp': '2024-0...</td>\n",
       "    </tr>\n",
       "    <tr>\n",
       "      <th>1</th>\n",
       "      <td>138255539</td>\n",
       "      <td>Not Like Us</td>\n",
       "      <td>USUG12400910</td>\n",
       "      <td>6AI3ezQ4o3HUoP6Dhudph3</td>\n",
       "      <td>5JjnoGJyOxfSZUZtk2rRwZ</td>\n",
       "      <td>https://i.scdn.co/image/ab67616d0000b2731ea0c6...</td>\n",
       "      <td>96</td>\n",
       "      <td>120189440</td>\n",
       "      <td>[Kendrick Lamar]</td>\n",
       "      <td>conscious hip hop,hip hop,pop rap,rap,west coa...</td>\n",
       "      <td>...</td>\n",
       "      <td>REGIONAL DAILY</td>\n",
       "      <td>None</td>\n",
       "      <td>US</td>\n",
       "      <td>138255539</td>\n",
       "      <td>0.000000</td>\n",
       "      <td>2</td>\n",
       "      <td>1</td>\n",
       "      <td>2024-05-06T00:00:00.000Z</td>\n",
       "      <td>57</td>\n",
       "      <td>[{'plays': None, 'rank': 2, 'timestp': '2024-0...</td>\n",
       "    </tr>\n",
       "    <tr>\n",
       "      <th>2</th>\n",
       "      <td>139556669</td>\n",
       "      <td>A Bar Song (Tipsy)</td>\n",
       "      <td>USUYG1541249</td>\n",
       "      <td>5fZJQrFKWQLb7FpJXZ1g7K</td>\n",
       "      <td>0DLvFVIfwt3OHdK9kGeEM3</td>\n",
       "      <td>https://i.scdn.co/image/ab67616d0000b27380d86d...</td>\n",
       "      <td>86</td>\n",
       "      <td>118969192</td>\n",
       "      <td>[Shaboozey]</td>\n",
       "      <td>pop rap</td>\n",
       "      <td>...</td>\n",
       "      <td>REGIONAL DAILY</td>\n",
       "      <td>None</td>\n",
       "      <td>US</td>\n",
       "      <td>139556669</td>\n",
       "      <td>0.428571</td>\n",
       "      <td>3</td>\n",
       "      <td>1</td>\n",
       "      <td>2024-07-05T00:00:00.000Z</td>\n",
       "      <td>31</td>\n",
       "      <td>[{'plays': None, 'rank': 6, 'timestp': '2024-0...</td>\n",
       "    </tr>\n",
       "    <tr>\n",
       "      <th>3</th>\n",
       "      <td>137338334</td>\n",
       "      <td>Espresso</td>\n",
       "      <td>USUM72403305</td>\n",
       "      <td>2qSkIjg1o9h3YT9RAgYN75</td>\n",
       "      <td>5quMTd5zeI9yW5UDua8wS4</td>\n",
       "      <td>https://i.scdn.co/image/ab67616d0000b273659cd4...</td>\n",
       "      <td>99</td>\n",
       "      <td>118981138</td>\n",
       "      <td>[Sabrina Carpenter]</td>\n",
       "      <td>dance pop,electropop,pop,post-teen pop,viral pop</td>\n",
       "      <td>...</td>\n",
       "      <td>REGIONAL DAILY</td>\n",
       "      <td>None</td>\n",
       "      <td>US</td>\n",
       "      <td>137338334</td>\n",
       "      <td>-0.142857</td>\n",
       "      <td>4</td>\n",
       "      <td>1</td>\n",
       "      <td>2024-04-30T00:00:00.000Z</td>\n",
       "      <td>81</td>\n",
       "      <td>[{'plays': None, 'rank': 3, 'timestp': '2024-0...</td>\n",
       "    </tr>\n",
       "    <tr>\n",
       "      <th>4</th>\n",
       "      <td>138330270</td>\n",
       "      <td>I Had Some Help (feat. Morgan Wallen)</td>\n",
       "      <td>USUM72404990</td>\n",
       "      <td>7221xIgOnuakPdLqT0F3nP</td>\n",
       "      <td>1woYXxyyxTQJ0E0AhZE6mj</td>\n",
       "      <td>https://is1-ssl.mzstatic.com/image/thumb/Music...</td>\n",
       "      <td>95</td>\n",
       "      <td>120372551</td>\n",
       "      <td>[Post Malone, Morgan Wallen]</td>\n",
       "      <td>dfw rap,melodic rap,pop,rap,contemporary count...</td>\n",
       "      <td>...</td>\n",
       "      <td>REGIONAL DAILY</td>\n",
       "      <td>None</td>\n",
       "      <td>US</td>\n",
       "      <td>138330270</td>\n",
       "      <td>-0.142857</td>\n",
       "      <td>5</td>\n",
       "      <td>1</td>\n",
       "      <td>2024-05-11T00:00:00.000Z</td>\n",
       "      <td>52</td>\n",
       "      <td>[{'plays': None, 'rank': 4, 'timestp': '2024-0...</td>\n",
       "    </tr>\n",
       "  </tbody>\n",
       "</table>\n",
       "<p>5 rows × 45 columns</p>\n",
       "</div>"
      ],
      "text/plain": [
       "          id                                   name          isrc  \\\n",
       "0  140970481                   Please Please Please  USUM72404101   \n",
       "1  138255539                            Not Like Us  USUG12400910   \n",
       "2  139556669                     A Bar Song (Tipsy)  USUYG1541249   \n",
       "3  137338334                               Espresso  USUM72403305   \n",
       "4  138330270  I Had Some Help (feat. Morgan Wallen)  USUM72404990   \n",
       "\n",
       "         spotify_track_id        spotify_album_id  \\\n",
       "0  5N3hjp1WNayUPZrA8kJmJP  5bBaoign62r1i7OV8w7mi9   \n",
       "1  6AI3ezQ4o3HUoP6Dhudph3  5JjnoGJyOxfSZUZtk2rRwZ   \n",
       "2  5fZJQrFKWQLb7FpJXZ1g7K  0DLvFVIfwt3OHdK9kGeEM3   \n",
       "3  2qSkIjg1o9h3YT9RAgYN75  5quMTd5zeI9yW5UDua8wS4   \n",
       "4  7221xIgOnuakPdLqT0F3nP  1woYXxyyxTQJ0E0AhZE6mj   \n",
       "\n",
       "                                           image_url  spotify_popularity  \\\n",
       "0  https://i.scdn.co/image/ab67616d0000b273de84ad...                  98   \n",
       "1  https://i.scdn.co/image/ab67616d0000b2731ea0c6...                  96   \n",
       "2  https://i.scdn.co/image/ab67616d0000b27380d86d...                  86   \n",
       "3  https://i.scdn.co/image/ab67616d0000b273659cd4...                  99   \n",
       "4  https://is1-ssl.mzstatic.com/image/thumb/Music...                  95   \n",
       "\n",
       "    cm_track          spotify_artist_names  \\\n",
       "0  122336328           [Sabrina Carpenter]   \n",
       "1  120189440              [Kendrick Lamar]   \n",
       "2  118969192                   [Shaboozey]   \n",
       "3  118981138           [Sabrina Carpenter]   \n",
       "4  120372551  [Post Malone, Morgan Wallen]   \n",
       "\n",
       "                                         track_genre  ...      chart_name  \\\n",
       "0   dance pop,electropop,pop,post-teen pop,viral pop  ...  REGIONAL DAILY   \n",
       "1  conscious hip hop,hip hop,pop rap,rap,west coa...  ...  REGIONAL DAILY   \n",
       "2                                            pop rap  ...  REGIONAL DAILY   \n",
       "3   dance pop,electropop,pop,post-teen pop,viral pop  ...  REGIONAL DAILY   \n",
       "4  dfw rap,melodic rap,pop,rap,contemporary count...  ...  REGIONAL DAILY   \n",
       "\n",
       "  current_plays code2    spotify  velocity pre_rank peak_rank  \\\n",
       "0          None    US  140970481  0.000000        1         1   \n",
       "1          None    US  138255539  0.000000        2         1   \n",
       "2          None    US  139556669  0.428571        3         1   \n",
       "3          None    US  137338334 -0.142857        4         1   \n",
       "4          None    US  138330270 -0.142857        5         1   \n",
       "\n",
       "                  peak_date  time_on_chart  \\\n",
       "0  2024-06-10T00:00:00.000Z             25   \n",
       "1  2024-05-06T00:00:00.000Z             57   \n",
       "2  2024-07-05T00:00:00.000Z             31   \n",
       "3  2024-04-30T00:00:00.000Z             81   \n",
       "4  2024-05-11T00:00:00.000Z             52   \n",
       "\n",
       "                                           rankStats  \n",
       "0  [{'plays': None, 'rank': 1, 'timestp': '2024-0...  \n",
       "1  [{'plays': None, 'rank': 2, 'timestp': '2024-0...  \n",
       "2  [{'plays': None, 'rank': 6, 'timestp': '2024-0...  \n",
       "3  [{'plays': None, 'rank': 3, 'timestp': '2024-0...  \n",
       "4  [{'plays': None, 'rank': 4, 'timestp': '2024-0...  \n",
       "\n",
       "[5 rows x 45 columns]"
      ]
     },
     "execution_count": 19,
     "metadata": {},
     "output_type": "execute_result"
    }
   ],
   "source": [
    "tracks_df = pd.json_normalize(spotify_tracks_results.json()['obj']['data'])\n",
    "tracks_df.head()"
   ]
  },
  {
   "cell_type": "code",
   "execution_count": 20,
   "metadata": {},
   "outputs": [
    {
     "data": {
      "text/plain": [
       "(50, 45)"
      ]
     },
     "execution_count": 20,
     "metadata": {},
     "output_type": "execute_result"
    }
   ],
   "source": [
    "tracks_df.shape"
   ]
  },
  {
   "cell_type": "code",
   "execution_count": 21,
   "metadata": {},
   "outputs": [
    {
     "data": {
      "text/plain": [
       "id                        int64\n",
       "name                     object\n",
       "isrc                     object\n",
       "spotify_track_id         object\n",
       "spotify_album_id         object\n",
       "image_url                object\n",
       "spotify_popularity        int64\n",
       "cm_track                  int64\n",
       "spotify_artist_names     object\n",
       "track_genre              object\n",
       "cm_artist                object\n",
       "artist_names             object\n",
       "code2s                   object\n",
       "artist_images            object\n",
       "artist_covers            object\n",
       "spotify_artist_ids       object\n",
       "spotify_track_ids        object\n",
       "spotify_album_ids        object\n",
       "spotify_duration_ms       int64\n",
       "album_ids                object\n",
       "album_names              object\n",
       "album_upc                object\n",
       "album_label              object\n",
       "release_dates            object\n",
       "composer_name            object\n",
       "album                    object\n",
       "duration_ms               int64\n",
       "explicit                   bool\n",
       "score                   float64\n",
       "songwriter               object\n",
       "artists                  object\n",
       "rank                      int64\n",
       "added_at                 object\n",
       "duration                 object\n",
       "chart_type               object\n",
       "chart_name               object\n",
       "current_plays            object\n",
       "code2                    object\n",
       "spotify                   int64\n",
       "velocity                float64\n",
       "pre_rank                  int64\n",
       "peak_rank                 int64\n",
       "peak_date                object\n",
       "time_on_chart             int64\n",
       "rankStats                object\n",
       "dtype: object"
      ]
     },
     "execution_count": 21,
     "metadata": {},
     "output_type": "execute_result"
    }
   ],
   "source": [
    "tracks_df.dtypes"
   ]
  },
  {
   "cell_type": "markdown",
   "metadata": {},
   "source": [
    "#### Export tracks to CSV"
   ]
  },
  {
   "cell_type": "code",
   "execution_count": null,
   "metadata": {},
   "outputs": [],
   "source": [
    "tracks_df.to_csv('tracks_df.csv',index=False)"
   ]
  },
  {
   "cell_type": "markdown",
   "metadata": {},
   "source": [
    "### Visuals"
   ]
  },
  {
   "cell_type": "code",
   "execution_count": 22,
   "metadata": {},
   "outputs": [
    {
     "data": {
      "image/png": "[encoded data removed]",
      "text/plain": [
       "<Figure size 1500x800 with 1 Axes>"
      ]
     },
     "metadata": {},
     "output_type": "display_data"
    }
   ],
   "source": [
    "fig, ax = plt.subplots(1,1, figsize=(15,8))\n",
    "\n",
    "sns.despine(left=True,right=True,top=True)\n",
    "\n",
    "sns.histplot(x = 'spotify_popularity', data = tracks_df)\n",
    "\n",
    "plt.title('Distribution of Spotify Popularity', fontweight='bold')\n",
    "\n",
    "plt.show()"
   ]
  },
  {
   "cell_type": "markdown",
   "metadata": {},
   "source": [
    "## YouTube tracks"
   ]
  },
  {
   "cell_type": "code",
   "execution_count": 25,
   "metadata": {},
   "outputs": [],
   "source": [
    "country_code = 'US'\n",
    "date = '2024-06-27'\n",
    "\n",
    "youtube_tracks_url = f\"https://api.chartmetric.com/api/charts/youtube/tracks?country_code={country_code}&date={date}\"\n",
    "\n",
    "headers = {\"Authorization\": f\"Bearer {api_token}\"}\n",
    "\n",
    "youtube_tracks_results = requests.get(youtube_tracks_url, headers = headers)"
   ]
  },
  {
   "cell_type": "code",
   "execution_count": 26,
   "metadata": {},
   "outputs": [
    {
     "data": {
      "text/plain": [
       "<Response [200]>"
      ]
     },
     "execution_count": 26,
     "metadata": {},
     "output_type": "execute_result"
    }
   ],
   "source": [
    "youtube_tracks_results"
   ]
  },
  {
   "cell_type": "code",
   "execution_count": 27,
   "metadata": {},
   "outputs": [
    {
     "data": {
      "text/html": [
       "<div>\n",
       "<style scoped>\n",
       "    .dataframe tbody tr th:only-of-type {\n",
       "        vertical-align: middle;\n",
       "    }\n",
       "\n",
       "    .dataframe tbody tr th {\n",
       "        vertical-align: top;\n",
       "    }\n",
       "\n",
       "    .dataframe thead th {\n",
       "        text-align: right;\n",
       "    }\n",
       "</style>\n",
       "<table border=\"1\" class=\"dataframe\">\n",
       "  <thead>\n",
       "    <tr style=\"text-align: right;\">\n",
       "      <th></th>\n",
       "      <th>id</th>\n",
       "      <th>name</th>\n",
       "      <th>isrc</th>\n",
       "      <th>youtube_artist</th>\n",
       "      <th>image_url</th>\n",
       "      <th>cm_track</th>\n",
       "      <th>upload_date</th>\n",
       "      <th>license</th>\n",
       "      <th>album_names</th>\n",
       "      <th>youtube_artist_names</th>\n",
       "      <th>...</th>\n",
       "      <th>added_at</th>\n",
       "      <th>view_count</th>\n",
       "      <th>raw_data</th>\n",
       "      <th>velocity</th>\n",
       "      <th>pre_rank</th>\n",
       "      <th>peak_rank</th>\n",
       "      <th>peak_date</th>\n",
       "      <th>time_on_chart</th>\n",
       "      <th>rankStats</th>\n",
       "      <th>viewStats</th>\n",
       "    </tr>\n",
       "  </thead>\n",
       "  <tbody>\n",
       "    <tr>\n",
       "      <th>0</th>\n",
       "      <td>fSMk5o9MWKM</td>\n",
       "      <td>Not Like Us</td>\n",
       "      <td>USUG12400910</td>\n",
       "      <td>/m/0g9x698</td>\n",
       "      <td>https://i.ytimg.com/vi/fSMk5o9MWKM/maxresdefau...</td>\n",
       "      <td>120189440.0</td>\n",
       "      <td>2024-05-05T07:36:05.000Z</td>\n",
       "      <td>None</td>\n",
       "      <td>[Not Like Us]</td>\n",
       "      <td>[Kendrick Lamar]</td>\n",
       "      <td>...</td>\n",
       "      <td>2024-06-27T00:00:00.000Z</td>\n",
       "      <td>12169849</td>\n",
       "      <td>None</td>\n",
       "      <td>0.000000</td>\n",
       "      <td>1.0</td>\n",
       "      <td>1</td>\n",
       "      <td>2024-06-20T00:00:00.000Z</td>\n",
       "      <td>2</td>\n",
       "      <td>[{'rank': 1, 'timestp': '2024-06-20T00:00:00.0...</td>\n",
       "      <td>[{'views': 8965569, 'timestp': '2024-06-20T00:...</td>\n",
       "    </tr>\n",
       "    <tr>\n",
       "      <th>1</th>\n",
       "      <td>t7bQwwqW-Hc</td>\n",
       "      <td>A Bar Song (Tipsy)</td>\n",
       "      <td>USUYG1541249</td>\n",
       "      <td>/g/11b7_t9432</td>\n",
       "      <td>https://i.ytimg.com/vi/t7bQwwqW-Hc/maxresdefau...</td>\n",
       "      <td>118969192.0</td>\n",
       "      <td>2024-04-12T04:00:36.000Z</td>\n",
       "      <td>None</td>\n",
       "      <td>[A Bar Song (Tipsy)]</td>\n",
       "      <td>None</td>\n",
       "      <td>...</td>\n",
       "      <td>2024-06-27T00:00:00.000Z</td>\n",
       "      <td>7779581</td>\n",
       "      <td>None</td>\n",
       "      <td>0.000000</td>\n",
       "      <td>2.0</td>\n",
       "      <td>2</td>\n",
       "      <td>2024-06-20T00:00:00.000Z</td>\n",
       "      <td>11</td>\n",
       "      <td>[{'rank': 2, 'timestp': '2024-06-20T00:00:00.0...</td>\n",
       "      <td>[{'views': 7735131, 'timestp': '2024-06-20T00:...</td>\n",
       "    </tr>\n",
       "    <tr>\n",
       "      <th>2</th>\n",
       "      <td>bUX8MDNQda4</td>\n",
       "      <td>MILLION DOLLAR BABY</td>\n",
       "      <td>QM24S2402528</td>\n",
       "      <td>/g/11h2hbdm9p</td>\n",
       "      <td>https://i.ytimg.com/vi/bUX8MDNQda4/maxresdefau...</td>\n",
       "      <td>119723065.0</td>\n",
       "      <td>2024-05-03T04:02:07.000Z</td>\n",
       "      <td>None</td>\n",
       "      <td>[Million Dollar Baby - Single]</td>\n",
       "      <td>None</td>\n",
       "      <td>...</td>\n",
       "      <td>2024-06-27T00:00:00.000Z</td>\n",
       "      <td>6918255</td>\n",
       "      <td>None</td>\n",
       "      <td>0.000000</td>\n",
       "      <td>3.0</td>\n",
       "      <td>2</td>\n",
       "      <td>2024-05-30T00:00:00.000Z</td>\n",
       "      <td>5</td>\n",
       "      <td>[{'rank': 3, 'timestp': '2024-06-20T00:00:00.0...</td>\n",
       "      <td>[{'views': 7513463, 'timestp': '2024-06-20T00:...</td>\n",
       "    </tr>\n",
       "    <tr>\n",
       "      <th>3</th>\n",
       "      <td>GZ3zL7kT6_c</td>\n",
       "      <td>Lose Control (Live)</td>\n",
       "      <td>USWB12302315</td>\n",
       "      <td>/g/11h763y_g9</td>\n",
       "      <td>https://i.ytimg.com/vi/GZ3zL7kT6_c/maxresdefau...</td>\n",
       "      <td>104296194.0</td>\n",
       "      <td>2023-06-23T04:00:12.000Z</td>\n",
       "      <td>None</td>\n",
       "      <td>[Lose Control]</td>\n",
       "      <td>None</td>\n",
       "      <td>...</td>\n",
       "      <td>2024-06-27T00:00:00.000Z</td>\n",
       "      <td>5319690</td>\n",
       "      <td>None</td>\n",
       "      <td>0.142857</td>\n",
       "      <td>5.0</td>\n",
       "      <td>1</td>\n",
       "      <td>2024-03-07T00:00:00.000Z</td>\n",
       "      <td>44</td>\n",
       "      <td>[{'rank': 5, 'timestp': '2024-06-20T00:00:00.0...</td>\n",
       "      <td>[{'views': 5917639, 'timestp': '2024-06-20T00:...</td>\n",
       "    </tr>\n",
       "    <tr>\n",
       "      <th>4</th>\n",
       "      <td>Oa_RSwwpPaA</td>\n",
       "      <td>Beautiful Things</td>\n",
       "      <td>USWB12307016</td>\n",
       "      <td>/g/11r_mnt170</td>\n",
       "      <td>https://i.ytimg.com/vi/Oa_RSwwpPaA/maxresdefau...</td>\n",
       "      <td>116167805.0</td>\n",
       "      <td>2024-01-18T23:00:13.000Z</td>\n",
       "      <td>None</td>\n",
       "      <td>[Beautiful Things]</td>\n",
       "      <td>None</td>\n",
       "      <td>...</td>\n",
       "      <td>2024-06-27T00:00:00.000Z</td>\n",
       "      <td>5193394</td>\n",
       "      <td>None</td>\n",
       "      <td>0.142857</td>\n",
       "      <td>6.0</td>\n",
       "      <td>1</td>\n",
       "      <td>2024-03-21T00:00:00.000Z</td>\n",
       "      <td>23</td>\n",
       "      <td>[{'rank': 6, 'timestp': '2024-06-20T00:00:00.0...</td>\n",
       "      <td>[{'views': 5433504, 'timestp': '2024-06-20T00:...</td>\n",
       "    </tr>\n",
       "  </tbody>\n",
       "</table>\n",
       "<p>5 rows × 42 columns</p>\n",
       "</div>"
      ],
      "text/plain": [
       "            id                 name          isrc youtube_artist  \\\n",
       "0  fSMk5o9MWKM          Not Like Us  USUG12400910     /m/0g9x698   \n",
       "1  t7bQwwqW-Hc   A Bar Song (Tipsy)  USUYG1541249  /g/11b7_t9432   \n",
       "2  bUX8MDNQda4  MILLION DOLLAR BABY  QM24S2402528  /g/11h2hbdm9p   \n",
       "3  GZ3zL7kT6_c  Lose Control (Live)  USWB12302315  /g/11h763y_g9   \n",
       "4  Oa_RSwwpPaA     Beautiful Things  USWB12307016  /g/11r_mnt170   \n",
       "\n",
       "                                           image_url     cm_track  \\\n",
       "0  https://i.ytimg.com/vi/fSMk5o9MWKM/maxresdefau...  120189440.0   \n",
       "1  https://i.ytimg.com/vi/t7bQwwqW-Hc/maxresdefau...  118969192.0   \n",
       "2  https://i.ytimg.com/vi/bUX8MDNQda4/maxresdefau...  119723065.0   \n",
       "3  https://i.ytimg.com/vi/GZ3zL7kT6_c/maxresdefau...  104296194.0   \n",
       "4  https://i.ytimg.com/vi/Oa_RSwwpPaA/maxresdefau...  116167805.0   \n",
       "\n",
       "                upload_date license                     album_names  \\\n",
       "0  2024-05-05T07:36:05.000Z    None                   [Not Like Us]   \n",
       "1  2024-04-12T04:00:36.000Z    None            [A Bar Song (Tipsy)]   \n",
       "2  2024-05-03T04:02:07.000Z    None  [Million Dollar Baby - Single]   \n",
       "3  2023-06-23T04:00:12.000Z    None                  [Lose Control]   \n",
       "4  2024-01-18T23:00:13.000Z    None              [Beautiful Things]   \n",
       "\n",
       "  youtube_artist_names  ...                  added_at view_count raw_data  \\\n",
       "0     [Kendrick Lamar]  ...  2024-06-27T00:00:00.000Z   12169849     None   \n",
       "1                 None  ...  2024-06-27T00:00:00.000Z    7779581     None   \n",
       "2                 None  ...  2024-06-27T00:00:00.000Z    6918255     None   \n",
       "3                 None  ...  2024-06-27T00:00:00.000Z    5319690     None   \n",
       "4                 None  ...  2024-06-27T00:00:00.000Z    5193394     None   \n",
       "\n",
       "   velocity pre_rank peak_rank                 peak_date time_on_chart  \\\n",
       "0  0.000000      1.0         1  2024-06-20T00:00:00.000Z             2   \n",
       "1  0.000000      2.0         2  2024-06-20T00:00:00.000Z            11   \n",
       "2  0.000000      3.0         2  2024-05-30T00:00:00.000Z             5   \n",
       "3  0.142857      5.0         1  2024-03-07T00:00:00.000Z            44   \n",
       "4  0.142857      6.0         1  2024-03-21T00:00:00.000Z            23   \n",
       "\n",
       "                                           rankStats  \\\n",
       "0  [{'rank': 1, 'timestp': '2024-06-20T00:00:00.0...   \n",
       "1  [{'rank': 2, 'timestp': '2024-06-20T00:00:00.0...   \n",
       "2  [{'rank': 3, 'timestp': '2024-06-20T00:00:00.0...   \n",
       "3  [{'rank': 5, 'timestp': '2024-06-20T00:00:00.0...   \n",
       "4  [{'rank': 6, 'timestp': '2024-06-20T00:00:00.0...   \n",
       "\n",
       "                                           viewStats  \n",
       "0  [{'views': 8965569, 'timestp': '2024-06-20T00:...  \n",
       "1  [{'views': 7735131, 'timestp': '2024-06-20T00:...  \n",
       "2  [{'views': 7513463, 'timestp': '2024-06-20T00:...  \n",
       "3  [{'views': 5917639, 'timestp': '2024-06-20T00:...  \n",
       "4  [{'views': 5433504, 'timestp': '2024-06-20T00:...  \n",
       "\n",
       "[5 rows x 42 columns]"
      ]
     },
     "execution_count": 27,
     "metadata": {},
     "output_type": "execute_result"
    }
   ],
   "source": [
    "youtube_df = pd.json_normalize(youtube_tracks_results.json()['obj']['data'])\n",
    "youtube_df.head()"
   ]
  },
  {
   "cell_type": "code",
   "execution_count": 28,
   "metadata": {},
   "outputs": [
    {
     "name": "stdout",
     "output_type": "stream",
     "text": [
      "Updated DataFrame with 'cm_track' as int64:\n",
      "            id                 name          isrc youtube_artist  \\\n",
      "0  fSMk5o9MWKM          Not Like Us  USUG12400910     /m/0g9x698   \n",
      "1  t7bQwwqW-Hc   A Bar Song (Tipsy)  USUYG1541249  /g/11b7_t9432   \n",
      "2  bUX8MDNQda4  MILLION DOLLAR BABY  QM24S2402528  /g/11h2hbdm9p   \n",
      "3  GZ3zL7kT6_c  Lose Control (Live)  USWB12302315  /g/11h763y_g9   \n",
      "4  Oa_RSwwpPaA     Beautiful Things  USWB12307016  /g/11r_mnt170   \n",
      "\n",
      "                                           image_url   cm_track  \\\n",
      "0  https://i.ytimg.com/vi/fSMk5o9MWKM/maxresdefau...  120189440   \n",
      "1  https://i.ytimg.com/vi/t7bQwwqW-Hc/maxresdefau...  118969192   \n",
      "2  https://i.ytimg.com/vi/bUX8MDNQda4/maxresdefau...  119723065   \n",
      "3  https://i.ytimg.com/vi/GZ3zL7kT6_c/maxresdefau...  104296194   \n",
      "4  https://i.ytimg.com/vi/Oa_RSwwpPaA/maxresdefau...  116167805   \n",
      "\n",
      "                upload_date license                     album_names  \\\n",
      "0  2024-05-05T07:36:05.000Z    None                   [Not Like Us]   \n",
      "1  2024-04-12T04:00:36.000Z    None            [A Bar Song (Tipsy)]   \n",
      "2  2024-05-03T04:02:07.000Z    None  [Million Dollar Baby - Single]   \n",
      "3  2023-06-23T04:00:12.000Z    None                  [Lose Control]   \n",
      "4  2024-01-18T23:00:13.000Z    None              [Beautiful Things]   \n",
      "\n",
      "  youtube_artist_names  ...                  added_at view_count raw_data  \\\n",
      "0     [Kendrick Lamar]  ...  2024-06-27T00:00:00.000Z   12169849     None   \n",
      "1                 None  ...  2024-06-27T00:00:00.000Z    7779581     None   \n",
      "2                 None  ...  2024-06-27T00:00:00.000Z    6918255     None   \n",
      "3                 None  ...  2024-06-27T00:00:00.000Z    5319690     None   \n",
      "4                 None  ...  2024-06-27T00:00:00.000Z    5193394     None   \n",
      "\n",
      "   velocity pre_rank peak_rank                 peak_date time_on_chart  \\\n",
      "0  0.000000      1.0         1  2024-06-20T00:00:00.000Z             2   \n",
      "1  0.000000      2.0         2  2024-06-20T00:00:00.000Z            11   \n",
      "2  0.000000      3.0         2  2024-05-30T00:00:00.000Z             5   \n",
      "3  0.142857      5.0         1  2024-03-07T00:00:00.000Z            44   \n",
      "4  0.142857      6.0         1  2024-03-21T00:00:00.000Z            23   \n",
      "\n",
      "                                           rankStats  \\\n",
      "0  [{'rank': 1, 'timestp': '2024-06-20T00:00:00.0...   \n",
      "1  [{'rank': 2, 'timestp': '2024-06-20T00:00:00.0...   \n",
      "2  [{'rank': 3, 'timestp': '2024-06-20T00:00:00.0...   \n",
      "3  [{'rank': 5, 'timestp': '2024-06-20T00:00:00.0...   \n",
      "4  [{'rank': 6, 'timestp': '2024-06-20T00:00:00.0...   \n",
      "\n",
      "                                           viewStats  \n",
      "0  [{'views': 8965569, 'timestp': '2024-06-20T00:...  \n",
      "1  [{'views': 7735131, 'timestp': '2024-06-20T00:...  \n",
      "2  [{'views': 7513463, 'timestp': '2024-06-20T00:...  \n",
      "3  [{'views': 5917639, 'timestp': '2024-06-20T00:...  \n",
      "4  [{'views': 5433504, 'timestp': '2024-06-20T00:...  \n",
      "\n",
      "[5 rows x 42 columns]\n"
     ]
    }
   ],
   "source": [
    "# Check if 'cm_track' column exists and convert it to int64\n",
    "if 'cm_track' in youtube_df.columns:\n",
    "    # Handling NaN values by replacing them with 0 and converting to integer\n",
    "    youtube_df['cm_track'] = youtube_df['cm_track'].fillna(0).astype(int)\n",
    "else:\n",
    "    print(\"'cm_track' column not found in youtube_df\")\n",
    "\n",
    "# Display the updated DataFrame to check the changes\n",
    "print(\"Updated DataFrame with 'cm_track' as int64:\")\n",
    "print(youtube_df.head())\n"
   ]
  },
  {
   "cell_type": "markdown",
   "metadata": {},
   "source": [
    "#### Export YouTube df to CSV"
   ]
  },
  {
   "cell_type": "code",
   "execution_count": null,
   "metadata": {},
   "outputs": [],
   "source": [
    "youtube_df.to_csv('youtube_df.csv', index=False)"
   ]
  },
  {
   "cell_type": "markdown",
   "metadata": {},
   "source": [
    "### Visuals"
   ]
  },
  {
   "cell_type": "code",
   "execution_count": 29,
   "metadata": {},
   "outputs": [
    {
     "data": {
      "text/plain": [
       "id                           object\n",
       "name                         object\n",
       "isrc                         object\n",
       "youtube_artist               object\n",
       "image_url                    object\n",
       "cm_track                      int64\n",
       "upload_date                  object\n",
       "license                      object\n",
       "album_names                  object\n",
       "youtube_artist_names         object\n",
       "cm_artist                    object\n",
       "artist_names                 object\n",
       "code2s                       object\n",
       "artist_images                object\n",
       "artist_covers                object\n",
       "youtube_artist_ids           object\n",
       "youtube_track_ids            object\n",
       "composer_name                object\n",
       "album                        object\n",
       "duration_ms                 float64\n",
       "explicit                     object\n",
       "score                       float64\n",
       "songwriter                   object\n",
       "spotify_popularity          float64\n",
       "album_ids                    object\n",
       "album_upc                    object\n",
       "album_label                  object\n",
       "artists                      object\n",
       "youtube_track_id             object\n",
       "youtube_artist_name          object\n",
       "youtube_artist_cm_artist      int64\n",
       "position                      int64\n",
       "added_at                     object\n",
       "view_count                    int64\n",
       "raw_data                     object\n",
       "velocity                    float64\n",
       "pre_rank                    float64\n",
       "peak_rank                     int64\n",
       "peak_date                    object\n",
       "time_on_chart                 int64\n",
       "rankStats                    object\n",
       "viewStats                    object\n",
       "dtype: object"
      ]
     },
     "execution_count": 29,
     "metadata": {},
     "output_type": "execute_result"
    }
   ],
   "source": [
    "youtube_df.dtypes"
   ]
  },
  {
   "cell_type": "code",
   "execution_count": 30,
   "metadata": {},
   "outputs": [
    {
     "data": {
      "image/png": "[encoded data removed]",
      "text/plain": [
       "<Figure size 1500x800 with 1 Axes>"
      ]
     },
     "metadata": {},
     "output_type": "display_data"
    }
   ],
   "source": [
    "fig, ax = plt.subplots(1,1, figsize=(15,8))\n",
    "\n",
    "sns.despine(left=True,right=True,top=True)\n",
    "\n",
    "sns.histplot(x = 'duration_ms', data = youtube_df)\n",
    "\n",
    "plt.title('Distribution of YouTube Durations', fontweight='bold')\n",
    "\n",
    "plt.show()"
   ]
  },
  {
   "cell_type": "code",
   "execution_count": 35,
   "metadata": {},
   "outputs": [
    {
     "data": {
      "image/png": "[encoded data removed]",
      "text/plain": [
       "<Figure size 1500x800 with 1 Axes>"
      ]
     },
     "metadata": {},
     "output_type": "display_data"
    }
   ],
   "source": [
    "fig, ax = plt.subplots(1,1, figsize=(15,8))\n",
    "\n",
    "sns.despine(left=True,right=True,top=True)\n",
    "\n",
    "sns.scatterplot(x = 'view_count',y = 'duration_ms',data = youtube_df)\n",
    "\n",
    "plt.title('Views vs Duration', fontweight='bold')\n",
    "\n",
    "plt.show()"
   ]
  },
  {
   "cell_type": "code",
   "execution_count": null,
   "metadata": {},
   "outputs": [],
   "source": []
  },
  {
   "cell_type": "markdown",
   "metadata": {},
   "source": [
    "## Artist Tracks"
   ]
  },
  {
   "cell_type": "code",
   "execution_count": 36,
   "metadata": {},
   "outputs": [],
   "source": [
    "top_100_artist_ids = top_100_artists_df['id'].unique().tolist()"
   ]
  },
  {
   "cell_type": "code",
   "execution_count": 37,
   "metadata": {},
   "outputs": [
    {
     "name": "stdout",
     "output_type": "stream",
     "text": [
      "Made it through 0 artists...\n",
      "Made it through 5 artists...\n",
      "Made it through 10 artists...\n",
      "Made it through 15 artists...\n",
      "Made it through 20 artists...\n",
      "Made it through 25 artists...\n",
      "Made it through 30 artists...\n",
      "Made it through 35 artists...\n",
      "Made it through 40 artists...\n",
      "Made it through 45 artists...\n",
      "Made it through 50 artists...\n",
      "Made it through 55 artists...\n",
      "Made it through 60 artists...\n",
      "Made it through 65 artists...\n",
      "Made it through 70 artists...\n",
      "Made it through 75 artists...\n",
      "Made it through 80 artists...\n",
      "Made it through 85 artists...\n",
      "Made it through 90 artists...\n",
      "Made it through 95 artists...\n"
     ]
    }
   ],
   "source": [
    "counter = 0\n",
    "\n",
    "for artist_id in top_100_artist_ids:\n",
    "\n",
    "    artist_tracks_url = f\"https://api.chartmetric.com/api/artist/{artist_id}/tracks?limit=200\"\n",
    "\n",
    "    headers = {\"Authorization\": f\"Bearer {api_token}\"}\n",
    "\n",
    "    artist_tracks_results = requests.get(artist_tracks_url, headers = headers)\n",
    "    \n",
    "    if top_100_artist_ids.index(artist_id) == 0:\n",
    "        artist_tracks_df = pd.json_normalize(artist_tracks_results.json()['obj'])\n",
    "    else:\n",
    "        try:\n",
    "            artist_tracks_df = pd.concat([artist_tracks_df,pd.json_normalize(artist_tracks_results.json()['obj'])],ignore_index=True) \n",
    "        except Exception as e: \n",
    "            print(f\"This sucks.  Counter is at {counter}.  Artist id is {artist_id}.  Exception is: {e}\")\n",
    "    \n",
    "    if counter % 5 == 0:\n",
    "        print(f\"Made it through {counter} artists...\")\n",
    "    \n",
    "    counter += 1"
   ]
  },
  {
   "cell_type": "code",
   "execution_count": 38,
   "metadata": {},
   "outputs": [
    {
     "data": {
      "text/plain": [
       "(18041, 59)"
      ]
     },
     "execution_count": 38,
     "metadata": {},
     "output_type": "execute_result"
    }
   ],
   "source": [
    "artist_tracks_df.shape"
   ]
  },
  {
   "cell_type": "markdown",
   "metadata": {},
   "source": [
    "#### Export artist tracks df to CSV"
   ]
  },
  {
   "cell_type": "code",
   "execution_count": null,
   "metadata": {},
   "outputs": [],
   "source": [
    "artist_tracks_df.to_csv('artist_tracks_df.csv', index=False)"
   ]
  },
  {
   "cell_type": "code",
   "execution_count": null,
   "metadata": {},
   "outputs": [],
   "source": []
  },
  {
   "cell_type": "markdown",
   "metadata": {},
   "source": [
    "### Visuals"
   ]
  },
  {
   "cell_type": "code",
   "execution_count": 39,
   "metadata": {},
   "outputs": [
    {
     "data": {
      "text/plain": [
       "id                                            int64\n",
       "isrc                                         object\n",
       "artist_type                                  object\n",
       "cm_artist                                    object\n",
       "artist_names                                 object\n",
       "code2s                                       object\n",
       "artist_images                                object\n",
       "artist_covers                                object\n",
       "spotify_track_ids                            object\n",
       "spotify_album_ids                            object\n",
       "spotify_duration_ms                         float64\n",
       "itunes_track_ids                             object\n",
       "itunes_album_ids                             object\n",
       "storefronts                                  object\n",
       "deezer_track_ids                             object\n",
       "deezer_album_ids                             object\n",
       "deezer_duration                             float64\n",
       "amazon_track_ids                             object\n",
       "amazon_album_ids                             object\n",
       "album_ids                                    object\n",
       "album_names                                  object\n",
       "album_upc                                    object\n",
       "album_label                                  object\n",
       "release_dates                                object\n",
       "created_at                                   object\n",
       "image_url                                    object\n",
       "name                                         object\n",
       "cm_track                                      int64\n",
       "tags                                         object\n",
       "modified_at                                  object\n",
       "description                                  object\n",
       "cm_statistics.cm_track                        int64\n",
       "cm_statistics.de_playlist_total_reach       float64\n",
       "cm_statistics.num_am_editorial_playlists    float64\n",
       "cm_statistics.num_am_playlists              float64\n",
       "cm_statistics.num_az_editorial_playlists    float64\n",
       "cm_statistics.num_az_playlists              float64\n",
       "cm_statistics.num_de_editorial_playlists    float64\n",
       "cm_statistics.num_de_playlists              float64\n",
       "cm_statistics.num_sp_editorial_playlists    float64\n",
       "cm_statistics.num_sp_playlists              float64\n",
       "cm_statistics.num_tt_videos                 float64\n",
       "cm_statistics.num_yt_editorial_playlists    float64\n",
       "cm_statistics.num_yt_playlists              float64\n",
       "cm_statistics.sp_playlist_total_reach       float64\n",
       "cm_statistics.sp_popularity                 float64\n",
       "cm_statistics.sp_streams                    float64\n",
       "cm_statistics.yt_playlist_total_reach       float64\n",
       "cm_audio_features.acousticness                int64\n",
       "cm_audio_features.danceability                int64\n",
       "cm_audio_features.energy                      int64\n",
       "cm_audio_features.instrumentalness            int64\n",
       "cm_audio_features.key                         int64\n",
       "cm_audio_features.liveness                    int64\n",
       "cm_audio_features.loudness                    int64\n",
       "cm_audio_features.mode                        int64\n",
       "cm_audio_features.speechiness                 int64\n",
       "cm_audio_features.tempo                       int64\n",
       "cm_audio_features.valence                     int64\n",
       "dtype: object"
      ]
     },
     "execution_count": 39,
     "metadata": {},
     "output_type": "execute_result"
    }
   ],
   "source": [
    "artist_tracks_df.dtypes"
   ]
  },
  {
   "cell_type": "code",
   "execution_count": 41,
   "metadata": {},
   "outputs": [
    {
     "data": {
      "image/png": "[encoded data removed]",
      "text/plain": [
       "<Figure size 1500x800 with 1 Axes>"
      ]
     },
     "metadata": {},
     "output_type": "display_data"
    }
   ],
   "source": [
    "fig, ax = plt.subplots(1,1, figsize=(15,8))\n",
    "\n",
    "sns.despine(left=True,right=True,top=True)\n",
    "\n",
    "sns.histplot(x = 'id', data = artist_tracks_df)\n",
    "\n",
    "plt.title('Count of tracks by artist ID', fontweight='bold')\n",
    "\n",
    "plt.show()"
   ]
  },
  {
   "cell_type": "code",
   "execution_count": 42,
   "metadata": {},
   "outputs": [
    {
     "data": {
      "image/png": "[encoded data removed]",
      "text/plain": [
       "<Figure size 1500x800 with 1 Axes>"
      ]
     },
     "metadata": {},
     "output_type": "display_data"
    }
   ],
   "source": [
    "fig, ax = plt.subplots(1,1, figsize=(15,8))\n",
    "\n",
    "sns.despine(left=True,right=True,top=True)\n",
    "\n",
    "sns.scatterplot(x = 'cm_statistics.sp_popularity',y = 'cm_statistics.sp_streams',data = artist_tracks_df)\n",
    "\n",
    "plt.title('Spotify Popularity vs Streams', fontweight='bold')\n",
    "\n",
    "plt.show()"
   ]
  },
  {
   "cell_type": "markdown",
   "metadata": {},
   "source": [
    "## Track Chart Stats"
   ]
  },
  {
   "cell_type": "code",
   "execution_count": null,
   "metadata": {},
   "outputs": [],
   "source": [
    "track_stats_url = f\"https://api.chartmetric.com/api/track/22290726/spotify_top_daily/charts?since=2020-03-01\"\n",
    "headers = {\"Authorization\": f\"Bearer {api_token}\"}\n",
    "track_stats_results = requests.get(track_stats_url, headers = headers)\n",
    "\n",
    "track_stats_results.json()['obj']"
   ]
  },
  {
   "cell_type": "code",
   "execution_count": null,
   "metadata": {},
   "outputs": [],
   "source": [
    "track_ids = artist_tracks_df['cm_track'].unique().tolist()"
   ]
  },
  {
   "cell_type": "code",
   "execution_count": null,
   "metadata": {},
   "outputs": [],
   "source": [
    "import time\n",
    "\n",
    "counter = 0\n",
    "\n",
    "for track_id in track_ids:\n",
    "\n",
    "    track_stats_url = f\"https://api.chartmetric.com/api/track/{track_id}/spotify_top_daily/charts?since=2023-01-01\"\n",
    "\n",
    "    headers = {\"Authorization\": f\"Bearer {api_token}\"}\n",
    "\n",
    "    track_stats_results = requests.get(track_stats_url, headers = headers)\n",
    "    \n",
    "    if track_ids.index(track_id) == 0:\n",
    "        track_status_df = pd.json_normalize(track_stats_results.json()['obj'])\n",
    "    else:\n",
    "        try:\n",
    "            track_status_df = pd.concat([track_status_df,pd.json_normalize(track_stats_results.json()['obj'])],ignore_index=True) \n",
    "        except Exception as e: \n",
    "            print(f\"This sucks.  Counter is at {counter}.  Track id is {track_id}.  Exception is: {e}\")\n",
    "    \n",
    "    if counter % 20 == 0:\n",
    "        print(f\"Made it through {counter} tracks...\")\n",
    "    \n",
    "    counter += 1\n",
    "    \n",
    "    time.sleep(1)"
   ]
  },
  {
   "cell_type": "markdown",
   "metadata": {},
   "source": [
    "## Combine Data"
   ]
  },
  {
   "cell_type": "code",
   "execution_count": null,
   "metadata": {},
   "outputs": [],
   "source": [
    "import pandas as pd\n",
    "\n",
    "# Load the data from CSV files\n",
    "artist_tracks_df = pd.read_csv('artist_tracks_df.csv')\n",
    "tracks_df = pd.read_csv('tracks_df.csv')\n",
    "youtube_df = pd.read_csv('youtube_df.csv')\n",
    "\n",
    "# Add 'yt_' prefix to each column in youtube_df except for the merge key 'cm_track'\n",
    "youtube_df = youtube_df.set_index('cm_track').add_prefix('yt_').reset_index()\n",
    "\n",
    "# Add 'IsHit' column set to 1 for youtube_df and tracks_df\n",
    "youtube_df['IsHit'] = 1\n",
    "tracks_df['IsHit'] = 1\n",
    "\n",
    "# Merging artist_tracks_df with tracks_df\n",
    "merged_df_1 = pd.merge(artist_tracks_df, tracks_df, on='cm_track', how='left')\n",
    "\n",
    "# Merging the result with youtube_df\n",
    "final_df = pd.merge(merged_df_1, youtube_df, on='cm_track', how='left')\n",
    "\n",
    "# Create 'cm_track_id' by combining 'id_x' and 'cm_track' if they are the same, otherwise use 'cm_track'\n",
    "final_df['cm_track_id'] = final_df.apply(lambda row: row['cm_track'] if row['cm_track'] == row['id_x'] else row['cm_track'], axis=1)\n",
    "\n",
    "# Ensure 'cm_track_id' is the first column by reordering the DataFrame\n",
    "columns = ['cm_track_id'] + [col for col in final_df.columns if col not in ['cm_track_id', 'id_x', 'cm_track']]\n",
    "final_df = final_df[columns]\n",
    "\n",
    "# Drop the specified columns\n",
    "columns_to_drop = [\n",
    "    'artist_covers_x', 'itunes_track_ids', 'itunes_album_ids', 'deezer_track_ids', \n",
    "    'deezer_album_ids', 'deezer_duration', 'amazon_track_ids', 'amazon_album_ids', \n",
    "    'created_at', 'modified_at', 'description', 'cm_audio_features.acousticness', \n",
    "    'cm_audio_features.danceability', 'cm_audio_features.energy', \n",
    "    'cm_audio_features.instrumentalness', 'cm_audio_features.key', \n",
    "    'cm_audio_features.liveness', 'cm_audio_features.loudness', \n",
    "    'cm_audio_features.mode', 'cm_audio_features.speechiness', \n",
    "    'cm_audio_features.tempo', 'cm_audio_features.valence', 'id_y'\n",
    "]\n",
    "final_df.drop(columns=columns_to_drop, errors='ignore', inplace=True)\n",
    "\n",
    "# Merge and rename columns\n",
    "# Merge 'cm_statistics.sp_popularity' and 'spotify_popularity', giving precedence to non-null values from the first\n",
    "final_df['spotify_popularity'] = final_df['cm_statistics.sp_popularity'].combine_first(final_df['spotify_popularity'])\n",
    "final_df.drop(columns=['cm_statistics.sp_popularity'], inplace=True)\n",
    "\n",
    "# Merge 'image_url_x' and 'image_url_y' into 'image_url'\n",
    "final_df['image_url'] = final_df['image_url_x'].combine_first(final_df['image_url_y'])\n",
    "final_df.drop(columns=['image_url_x', 'image_url_y'], inplace=True)\n",
    "\n",
    "# Merge 'isrc_x' and 'isrc_y' into 'isrc'\n",
    "final_df['isrc'] = final_df['isrc_x'].combine_first(final_df['isrc_y'])\n",
    "final_df.drop(columns=['isrc_x', 'isrc_y'], inplace=True)\n",
    "\n",
    "# Optionally, inspect the first few rows to ensure the merge and new column were successful\n",
    "print(final_df.head())\n",
    "\n",
    "# Save the final merged DataFrame to a new CSV file\n",
    "final_df.to_csv('merged_CM_Track_data.csv', index=False)\n",
    "\n",
    "print(\"DataFrame saved to 'merged_CM_Track_data.csv'\")\n",
    "\n",
    "# Print all header column names of the new file\n",
    "print(\"Header Column Names of the Final DataFrame:\")\n",
    "print(final_df.columns.tolist())\n"
   ]
  },
  {
   "cell_type": "markdown",
   "metadata": {},
   "source": [
    "## Check which duplicate columns to delete & clean up data"
   ]
  },
  {
   "cell_type": "code",
   "execution_count": null,
   "metadata": {},
   "outputs": [],
   "source": [
    "# Load the merged data from the CSV file\n",
    "final_df = pd.read_csv('merged_CM_Track_data.csv', low_memory=False)\n",
    "\n",
    "# Define the column pairs and new column names\n",
    "column_pairs = {\n",
    "    ('cm_artist_x', 'cm_artist_y'): 'cm_artist',\n",
    "    ('artist_names_x', 'artist_names_y'): 'artist_names',\n",
    "    ('code2s_x', 'code2s_y'): 'region_codes',\n",
    "    ('artist_images_x', 'artist_images_y'): 'artist_images',\n",
    "    ('spotify_track_ids_x', 'spotify_track_ids_y'): 'spotify_track_ids',\n",
    "    ('spotify_album_ids_x', 'spotify_album_ids_y'): 'spotify_album_ids',\n",
    "    ('spotify_duration_ms_x', 'spotify_duration_ms_y'): 'track_duration',\n",
    "    ('album_ids_x', 'album_ids_y'): 'album_ids',\n",
    "    ('album_names_x', 'album_names_y'): 'album_names',\n",
    "    ('album_upc_x', 'album_upc_y'): 'album_upc',\n",
    "    ('album_label_x', 'album_label_y'): 'album_label',\n",
    "    ('release_dates_x', 'release_dates_y'): 'release_dates',\n",
    "    ('name_x', 'name_y'): 'name',\n",
    "    ('IsHit_x', 'IsHit_y'): 'IsHit'\n",
    "}\n",
    "\n",
    "# Process each pair of columns\n",
    "for (col_x, col_y), new_col in column_pairs.items():\n",
    "    # Merge the values from _x and _y columns into the new column\n",
    "    final_df[new_col] = final_df[col_x].combine_first(final_df[col_y])\n",
    "\n",
    "    # Drop the original _x and _y columns\n",
    "    final_df.drop(columns=[col_x, col_y], inplace=True)\n",
    "\n",
    "# Save the modified DataFrame back to a new CSV file\n",
    "final_df.to_csv('updated_merged_CM_Track_data.csv', index=False)\n",
    "\n",
    "print(\"Updated file saved as 'updated_merged_CM_Track_data.csv'.\")\n"
   ]
  },
  {
   "cell_type": "code",
   "execution_count": null,
   "metadata": {},
   "outputs": [],
   "source": [
    "# Load the updated data from the CSV file\n",
    "df = pd.read_csv('updated_merged_CM_Track_data.csv', low_memory=False)\n",
    "\n",
    "# Specify the new order of columns as a list\n",
    "new_column_order = [\n",
    "    'cm_track_id', 'isrc', 'name', 'IsHit', 'cm_artist', 'artist_names', 'artist_type',\n",
    "    'artist_images', 'image_url', 'release_dates', 'region_codes', 'track_duration',\n",
    "    'duration_ms', 'duration', 'track_genre', 'tags', 'storefronts', 'explicit', 'score',\n",
    "    'velocity', 'spotify_artist_ids', 'spotify_artist_names', 'spotify_popularity',\n",
    "    'spotify_album_id', 'spotify_album_ids', 'album', 'cm_statistics.cm_track',\n",
    "    'cm_statistics.de_playlist_total_reach', 'cm_statistics.num_am_editorial_playlists',\n",
    "    'cm_statistics.num_am_playlists', 'cm_statistics.num_az_editorial_playlists',\n",
    "    'cm_statistics.num_az_playlists', 'cm_statistics.num_de_editorial_playlists',\n",
    "    'cm_statistics.num_de_playlists', 'cm_statistics.num_sp_editorial_playlists',\n",
    "    'cm_statistics.num_sp_playlists', 'cm_statistics.num_tt_videos',\n",
    "    'cm_statistics.num_yt_editorial_playlists', 'cm_statistics.num_yt_playlists',\n",
    "    'cm_statistics.sp_playlist_total_reach', 'cm_statistics.sp_streams',\n",
    "    'cm_statistics.yt_playlist_total_reach', 'artist_covers_y', 'composer_name',\n",
    "    'songwriter', 'artists', 'rank', 'added_at', 'chart_type', 'chart_name', 'current_plays',\n",
    "    'code2', 'spotify', 'pre_rank', 'peak_rank', 'peak_date', 'time_on_chart', 'rankStats',\n",
    "    'yt_youtube_artist', 'yt_image_url', 'yt_upload_date', 'yt_license', 'yt_album_names',\n",
    "    'yt_youtube_artist_names', 'yt_cm_artist', 'yt_artist_names', 'yt_code2s',\n",
    "    'yt_artist_images', 'yt_artist_covers', 'yt_youtube_artist_ids', 'yt_youtube_track_ids',\n",
    "    'yt_composer_name', 'yt_album', 'yt_duration_ms', 'yt_explicit', 'yt_score',\n",
    "    'yt_songwriter', 'yt_spotify_popularity', 'yt_album_ids', 'yt_album_upc', 'yt_album_label',\n",
    "    'yt_artists', 'yt_youtube_track_id', 'yt_youtube_artist_name', 'yt_youtube_artist_cm_artist',\n",
    "    'yt_position', 'yt_added_at', 'yt_view_count', 'yt_raw_data', 'yt_velocity',\n",
    "    'yt_pre_rank', 'yt_peak_rank', 'yt_peak_date', 'yt_time_on_chart', 'yt_rankStats',\n",
    "    'yt_viewStats', 'album_ids', 'album_names', 'album_upc', 'album_label'\n",
    "]\n",
    "\n",
    "# Reorder the DataFrame according to the new column order, handling any missing columns\n",
    "df = df[[col for col in new_column_order if col in df.columns]]\n",
    "\n",
    "# Save the reordered DataFrame back to a new CSV file\n",
    "df.to_csv('reordered_updated_merged_CM_Track_data.csv', index=False)\n",
    "\n",
    "print(\"Reordered file saved as 'reordered_updated_merged_CM_Track_data.csv'.\")\n"
   ]
  },
  {
   "cell_type": "markdown",
   "metadata": {},
   "source": [
    "## Back Assign Popular Songs based on their YouTube & Spotify Popularity so that we know if past songs were IsHit=1"
   ]
  },
  {
   "cell_type": "code",
   "execution_count": null,
   "metadata": {},
   "outputs": [],
   "source": [
    "# Load the data from the CSV file\n",
    "df = pd.read_csv('reordered_updated_merged_CM_Track_data.csv', low_memory=False)\n",
    "\n",
    "# Define popularity thresholds\n",
    "SPOTIFY_POPULARITY_THRESHOLD = 50\n",
    "SPOTIFY_STREAMS_THRESHOLD = 5000000\n",
    "SPOTIFY_PLAYLISTS_THRESHOLD = 1000000\n",
    "YOUTUBE_REACH_THRESHOLD = 1000000\n",
    "\n",
    "# Initialize IsHit column to 0\n",
    "df['IsHit'] = 0\n",
    "\n",
    "# Check conditions and update IsHit accordingly\n",
    "if 'spotify_popularity' in df.columns:\n",
    "    df.loc[df['spotify_popularity'] >= SPOTIFY_POPULARITY_THRESHOLD, 'IsHit'] = 1\n",
    "if 'cm_statistics.sp_streams' in df.columns:\n",
    "    df.loc[df['cm_statistics.sp_streams'] >= SPOTIFY_STREAMS_THRESHOLD, 'IsHit'] = 1\n",
    "if 'cm_statistics.sp_playlist_total_reach' in df.columns:\n",
    "    df.loc[df['cm_statistics.sp_playlist_total_reach'] >= SPOTIFY_PLAYLISTS_THRESHOLD, 'IsHit'] = 1\n",
    "if 'cm_statistics.yt_playlist_total_reach' in df.columns:\n",
    "    df.loc[df['cm_statistics.yt_playlist_total_reach'] >= YOUTUBE_REACH_THRESHOLD, 'IsHit'] = 1    \n",
    "    \n",
    "    \n",
    "# Save the modified DataFrame back to a new CSV file\n",
    "df.to_csv('AlmostFinal_CM_consolidatedTracksForML.csv', index=False)\n",
    "\n",
    "print(\"File updated and saved as 'AlmostFinal_CM_consolidatedTracksForML.csv'.\")\n"
   ]
  },
  {
   "cell_type": "code",
   "execution_count": null,
   "metadata": {},
   "outputs": [],
   "source": [
    "# Load the data from CSV\n",
    "df = pd.read_csv('AlmostFinal_CM_consolidatedTracksForML.csv',low_memory=False)\n",
    "\n",
    "# Define the new order of the columns, removing 'id' and any other unspecified columns\n",
    "new_column_order = [\n",
    "    'cm_track_id', 'isrc', 'name', 'IsHit', 'cm_artist', 'artist_names',\n",
    "    'spotify_popularity', 'score', 'track_genre', 'image_url',\n",
    "    'artist_images', 'spotify_artist_ids', 'explicit', 'region_codes'\n",
    "]\n",
    "\n",
    "# Reorder the DataFrame to include only the specified columns (this will drop all other columns)\n",
    "df = df[new_column_order]\n",
    "\n",
    "# Save the modified DataFrame back to CSV\n",
    "df.to_csv('final_CM_consolidatedTracksForML.csv', index=False)\n",
    "\n",
    "print(\"Updated file saved successfully.\")\n"
   ]
  },
  {
   "cell_type": "code",
   "execution_count": null,
   "metadata": {},
   "outputs": [],
   "source": []
  }
 ],
 "metadata": {
  "kernelspec": {
   "display_name": "ai_bootcamp",
   "language": "python",
   "name": "ai_bootcamp"
  },
  "language_info": {
   "codemirror_mode": {
    "name": "ipython",
    "version": 3
   },
   "file_extension": ".py",
   "mimetype": "text/x-python",
   "name": "python",
   "nbconvert_exporter": "python",
   "pygments_lexer": "ipython3",
   "version": "3.12.2"
  }
 },
 "nbformat": 4,
 "nbformat_minor": 4
}
